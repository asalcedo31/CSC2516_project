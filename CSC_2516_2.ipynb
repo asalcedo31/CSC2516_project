{
  "nbformat": 4,
  "nbformat_minor": 0,
  "metadata": {
    "colab": {
      "name": "CSC_2516_2.ipynb",
      "version": "0.3.2",
      "provenance": [],
      "collapsed_sections": [],
      "include_colab_link": true
    },
    "kernelspec": {
      "name": "python3",
      "display_name": "Python 3"
    },
    "accelerator": "GPU"
  },
  "cells": [
    {
      "cell_type": "markdown",
      "metadata": {
        "id": "view-in-github",
        "colab_type": "text"
      },
      "source": [
        "<a href=\"https://colab.research.google.com/github/asalcedo31/CSC2516_project/blob/master/CSC_2516_2.ipynb\" target=\"_parent\"><img src=\"https://colab.research.google.com/assets/colab-badge.svg\" alt=\"Open In Colab\"/></a>"
      ]
    },
    {
      "metadata": {
        "id": "IFLeFAHicRU5",
        "colab_type": "code",
        "colab": {}
      },
      "cell_type": "code",
      "source": [
        "import torch\n",
        "import torchvision\n",
        "import torchvision.transforms as transforms\n",
        "from torchvision import datasets, models, transforms\n",
        "import torch.nn as nn\n",
        "from torch.nn import functional as F\n",
        "import torch.optim as optim\n",
        "from torch.optim import lr_scheduler\n",
        "import time\n",
        "import numpy as np\n",
        "import torchvision\n",
        "from torch.utils.data import Dataset, DataLoader\n",
        "import matplotlib.pyplot as plt\n",
        "import time\n",
        "import os\n",
        "import copy"
      ],
      "execution_count": 0,
      "outputs": []
    },
    {
      "metadata": {
        "id": "OPQe-n_jPx_M",
        "colab_type": "code",
        "outputId": "b4687169-886b-4cee-cb78-2b28967b0c1e",
        "colab": {
          "base_uri": "https://localhost:8080/",
          "height": 89
        }
      },
      "cell_type": "code",
      "source": [
        "\n",
        "\n",
        "transform = transforms.Compose(\n",
        "    [transforms.RandomResizedCrop(224),\n",
        "    transforms.RandomHorizontalFlip(),\n",
        "    transforms.ToTensor(),\n",
        "    transforms.Normalize((0.5, 0.5, 0.5), (0.5, 0.5, 0.5))])\n",
        "\n",
        "trainset = torchvision.datasets.CIFAR10(root='./data', train=True,\n",
        "                                        download=True, transform=transform)\n",
        "\n",
        "testset = torchvision.datasets.CIFAR10(root='./data', train=False,\n",
        "                                       download=True, transform=transform)\n",
        "testloader = torch.utils.data.DataLoader(testset, batch_size=5,\n",
        "                                         shuffle=False, num_workers=0)\n",
        "_,trainset = torch.utils.data.random_split(trainset,(49500,500))\n",
        "# _,trainset = torch.utils.data.random_split(trainset,(49995,5))\n",
        "print(trainset.__len__())\n",
        "\n",
        "train_data, val_data = torch.utils.data.random_split(trainset,(int(0.8*len(trainset)),int(0.2*len(trainset))))\n",
        "print(train_data.__len__(),val_data.__len__() )\n",
        "\n",
        "trainloader = torch.utils.data.DataLoader(train_data, batch_size=5,\n",
        "                                          shuffle=True, num_workers=0)\n",
        "valloader = torch.utils.data.DataLoader(val_data, batch_size=5,\n",
        "                                          shuffle=True, num_workers=0)\n",
        "\n",
        "# classes = ('plane', 'car', 'bird', 'cat',\n",
        "#            'deer', 'dog', 'frog', 'horse', 'ship', 'truck')\n"
      ],
      "execution_count": 2,
      "outputs": [
        {
          "output_type": "stream",
          "text": [
            "Files already downloaded and verified\n",
            "Files already downloaded and verified\n",
            "500\n",
            "400 100\n"
          ],
          "name": "stdout"
        }
      ]
    },
    {
      "metadata": {
        "id": "9RYIP8dtZbIO",
        "colab_type": "code",
        "colab": {}
      },
      "cell_type": "code",
      "source": [
        "image_datasets= {'train': train_data,'val': val_data}\n",
        "dataloaders = {'train': trainloader, 'val': valloader}\n",
        "\n",
        "dataset_sizes = {x: len(image_datasets[x]) for x in ['train', 'val']}\n",
        "# class_names = image_datasets['train'].classes\n"
      ],
      "execution_count": 0,
      "outputs": []
    },
    {
      "metadata": {
        "id": "sB6bCnTUahHw",
        "colab_type": "code",
        "colab": {}
      },
      "cell_type": "code",
      "source": [
        "def train_model(model, criterion, optimizer, scheduler, num_epochs=25):\n",
        "    since = time.time()\n",
        "\n",
        "    best_model_wts = copy.deepcopy(model.state_dict())\n",
        "    best_acc = 0.0\n",
        "\n",
        "    for epoch in range(num_epochs):\n",
        "        print('Epoch {}/{}'.format(epoch, num_epochs - 1))\n",
        "        print('-' * 10)\n",
        "\n",
        "        # Each epoch has a training and validation phase\n",
        "        for phase in ['train', 'val']:\n",
        "            if phase == 'train':\n",
        "                scheduler.step()\n",
        "#                 dataloader = train_data_loader\n",
        "                model.train()  # Set model to training mode\n",
        "                data_idx = 0\n",
        "            else:\n",
        "                model.eval()   # Set model to evaluate mode\n",
        "#                 dataloader = val_data_loader\n",
        "                data_idx = 1\n",
        "\n",
        "            running_loss = 0.0\n",
        "            running_corrects = 0\n",
        "            i=0\n",
        "            # Iterate over data.\n",
        "            for inputs, labels in dataloaders[phase]:\n",
        "                inputs = inputs.to(device)\n",
        "                labels = labels.to(device)\n",
        "\n",
        "                # zero the parameter gradients\n",
        "                optimizer.zero_grad()\n",
        "\n",
        "                # forward\n",
        "                # track history if only in train\n",
        "                with torch.set_grad_enabled(phase == 'train'):\n",
        "                    outputs = model(inputs)\n",
        "                    _, preds = torch.max(outputs, 1)\n",
        "                    loss = criterion(outputs, labels)\n",
        "\n",
        "                    # backward + optimize only if in training phase\n",
        "                    if phase == 'train':\n",
        "                        loss.backward()\n",
        "                        optimizer.step()\n",
        "#                 print('i ',i)\n",
        "#                 i+=1\n",
        "                # statistics\n",
        "                running_loss += loss.item() * inputs.size(0)\n",
        "                running_corrects += torch.sum(preds == labels.data)\n",
        "\n",
        "            epoch_loss = running_loss / dataset_sizes[phase]\n",
        "            epoch_acc = running_corrects.double() / dataset_sizes[phase]\n",
        "\n",
        "            print('{} Loss: {:.4f} Acc: {:.4f}'.format(\n",
        "                phase, epoch_loss, epoch_acc))\n",
        "\n",
        "            # deep copy the model\n",
        "            if phase == 'val' and epoch_acc > best_acc:\n",
        "                best_acc = epoch_acc\n",
        "                best_model_wts = copy.deepcopy(model.state_dict())\n",
        "\n",
        "        print()\n",
        "\n",
        "    time_elapsed = time.time() - since\n",
        "    print('Training complete in {:.0f}m {:.0f}s'.format(\n",
        "        time_elapsed // 60, time_elapsed % 60))\n",
        "    print('Best val Acc: {:4f}'.format(best_acc))\n",
        "\n",
        "    # load best model weights\n",
        "    model.load_state_dict(best_model_wts)\n",
        "    return model"
      ],
      "execution_count": 0,
      "outputs": []
    },
    {
      "metadata": {
        "id": "uqvxPLbW599o",
        "colab_type": "code",
        "colab": {}
      },
      "cell_type": "code",
      "source": [
        "def freeze_conv_layers(model_ft):\n",
        "  children = list(model_ft.named_children())\n",
        "  for name,param in children[0][1].named_parameters():\n",
        "    param.requires_grad = False"
      ],
      "execution_count": 0,
      "outputs": []
    },
    {
      "metadata": {
        "id": "yxJoz0sd8dLX",
        "colab_type": "code",
        "colab": {}
      },
      "cell_type": "code",
      "source": [
        "class MaskedLinear(torch.nn.Linear):\n",
        "  def __init__(self, in_features, out_features, bias=True, threshold=0.1):\n",
        "    super(MaskedLinear, self).__init__(in_features,out_features)\n",
        "    self.in_features = in_features\n",
        "    self.out_features = out_features\n",
        "    self.weight = nn.Parameter(torch.Tensor(out_features, in_features))\n",
        "    self.mask = torch.zeros(self.weight.size(), requires_grad=False).to(device)\n",
        "    self.ones = torch.ones(self.weight.size(), requires_grad=False).to(device)\n",
        "    self.threshold = threshold\n",
        "    \n",
        "    if bias:\n",
        "        self.bias = nn.Parameter(torch.Tensor(out_features))\n",
        "    else:\n",
        "        self.register_parameter('bias', None)\n",
        "    self.reset_parameters()\n",
        "#   def set_threshold(self):\n",
        "    \n",
        "  def forward(self, input):    \n",
        "    self.threshold = torch.max(torch.topk(torch.unique(self.weight),int(0.05*self.out_features*self.in_features),largest=False)[0])    \n",
        "#     print(self.out_features*self.in_features)\n",
        "#     print(upper[0].size())\n",
        "#     torch.max(upper[0]))\n",
        "    self.mask = torch.where(self.weight >= self.threshold,self.ones,self.mask)\n",
        "#     print(self.weight[0:10,0:10])\n",
        "#     print(mask[0:10,0:10])\n",
        "#     print((self.weight*mask)[0:10,0:10])\n",
        "    self.weight = torch.nn.Parameter(self.weight*self.mask).to(device)\n",
        "    return F.linear(input, self.weight, self.bias)\n",
        "\n",
        "def mask_network(network,layers_to_mask, threshold=0.002, random_init=False):\n",
        "  \"\"\"\"\n",
        "  replaces linear layers with masked linear layers\n",
        "  network is the initial sequential container\n",
        "  layers is a list of layers to mask\n",
        "  random init is a logical indicating whether to preserve the initial weights or to modify them\n",
        "  \"\"\"\n",
        "  for name,layer in network.named_children():   \n",
        "    if int(name) in layers_to_mask:\n",
        "#       print(name)\n",
        "#       print(layer.in_features)\n",
        "      masked_layer = MaskedLinear(layer.in_features, layer.out_features, bias=True,threshold=threshold)\n",
        "      if random_init != True:\n",
        "        masked_layer.weight = copy.deepcopy(layer.weight)\n",
        "        masked_layer.bias = copy.deepcopy(layer.bias)\n",
        "#       masked_layer.set_threshold()\n",
        "      network[int(name)] = masked_layer"
      ],
      "execution_count": 0,
      "outputs": []
    },
    {
      "metadata": {
        "id": "ez6FqzjW3p0I",
        "colab_type": "code",
        "outputId": "b1bcda71-184a-4341-9d5b-b26bc58befd9",
        "colab": {
          "base_uri": "https://localhost:8080/",
          "height": 35
        }
      },
      "cell_type": "code",
      "source": [
        "#testing code ignore\n",
        "model_ft = models.vgg16(pretrained=True)\n",
        "device = torch.device(\"cuda\" if torch.cuda.is_available() else \"cpu\")\n",
        "model_ft = model_ft.to(device)\n",
        "\n",
        "mask_network(model_ft.classifier,[0,3,6])\n",
        "# print(model_ft.classifier)\n",
        "# print(model_ft.classifier[0].weight[120:130,120::130])\n",
        "print(model_ft.classifier[0].threshold)"
      ],
      "execution_count": 61,
      "outputs": [
        {
          "output_type": "stream",
          "text": [
            "0.002\n"
          ],
          "name": "stdout"
        }
      ]
    },
    {
      "metadata": {
        "id": "kL4TQgkfF762",
        "colab_type": "code",
        "colab": {}
      },
      "cell_type": "code",
      "source": [
        "#testing code ignore\n",
        "i=0\n",
        "for inputs,labels in dataloaders['train']:\n",
        "  inputs = inputs.to(device)\n",
        "  model_ft.eval()  \n",
        "  outputs = model_ft(inputs)\n",
        "#   print(model_ft.classifier[3].threshold)\n",
        " "
      ],
      "execution_count": 0,
      "outputs": []
    },
    {
      "metadata": {
        "id": "r4zZe_zdbtDj",
        "colab_type": "code",
        "colab": {}
      },
      "cell_type": "code",
      "source": [
        "#baseline\n",
        "model_ft = models.vgg16(pretrained=True)\n",
        "# num_ftrs = model_ft.fc.in_features\n",
        "# model_ft.fc = nn.Linear(num_ftrs, 2)\n",
        "\n",
        "# model_ft = models.resnet18(pretrained=True)\n",
        "# num_ftrs = model_ft.fc.in_features\n",
        "# model_ft.fc = nn.Linear(num_ftrs, 2)\n",
        "\n",
        "device = torch.device(\"cuda\" if torch.cuda.is_available() else \"cpu\")\n",
        "model_ft = model_ft.to(device)\n",
        "\n",
        "criterion = nn.CrossEntropyLoss()\n",
        "\n",
        "# Observe that all parameters are being optimized\n",
        "optimizer_ft = optim.SGD(model_ft.parameters(), lr=0.001, momentum=0.9)\n",
        "\n",
        "# Decay LR by a factor of 0.1 every 7 epochs\n",
        "exp_lr_scheduler = lr_scheduler.StepLR(optimizer_ft, step_size=7, gamma=0.1)\n"
      ],
      "execution_count": 0,
      "outputs": []
    },
    {
      "metadata": {
        "id": "HRnWj3VTb_6d",
        "colab_type": "code",
        "colab": {}
      },
      "cell_type": "code",
      "source": [
        "#baseline\n",
        "model_ft = train_model(model_ft, criterion, optimizer_ft, exp_lr_scheduler,\n",
        "                       num_epochs=25)"
      ],
      "execution_count": 0,
      "outputs": []
    },
    {
      "metadata": {
        "id": "oiU5oOZpOG_8",
        "colab_type": "code",
        "colab": {}
      },
      "cell_type": "code",
      "source": [
        "model_ft = models.vgg16(pretrained=True)\n",
        "device = torch.device(\"cuda\" if torch.cuda.is_available() else \"cpu\")\n",
        "model_ft = model_ft.to(device)\n",
        "\n",
        "device = torch.device(\"cuda\" if torch.cuda.is_available() else \"cpu\")\n",
        "model_ft = model_ft.to(device)\n",
        "\n",
        "criterion = nn.CrossEntropyLoss()\n",
        "\n",
        "# Observe that all parameters are being optimized\n",
        "optimizer_ft = optim.SGD(model_ft.parameters(), lr=0.001, momentum=0.9)\n",
        "\n",
        "# Decay LR by a factor of 0.1 every 7 epochs\n",
        "exp_lr_scheduler = lr_scheduler.StepLR(optimizer_ft, step_size=7, gamma=0.1)\n",
        "\n",
        "freeze_conv_layers(model_ft)\n",
        "mask_network(model_ft.classifier,[0],threshold=0.0001)"
      ],
      "execution_count": 0,
      "outputs": []
    },
    {
      "metadata": {
        "id": "nqP3jrVtO5pq",
        "colab_type": "code",
        "outputId": "1302281d-6733-4d83-893e-157c4a05d1cf",
        "colab": {
          "base_uri": "https://localhost:8080/",
          "height": 503
        }
      },
      "cell_type": "code",
      "source": [
        "model_ft = train_model(model_ft, criterion, optimizer_ft, exp_lr_scheduler,\n",
        "                       num_epochs=5)"
      ],
      "execution_count": 8,
      "outputs": [
        {
          "output_type": "stream",
          "text": [
            "Epoch 0/4\n",
            "----------\n",
            "train Loss: 4.5464 Acc: 0.0750\n",
            "val Loss: 2.6614 Acc: 0.1100\n",
            "\n",
            "Epoch 1/4\n",
            "----------\n",
            "train Loss: 3.5458 Acc: 0.1375\n",
            "val Loss: 2.6852 Acc: 0.1600\n",
            "\n",
            "Epoch 2/4\n",
            "----------\n",
            "train Loss: 3.3933 Acc: 0.1500\n",
            "val Loss: 2.5406 Acc: 0.2300\n",
            "\n",
            "Epoch 3/4\n",
            "----------\n",
            "train Loss: 3.6336 Acc: 0.1125\n",
            "val Loss: 3.7840 Acc: 0.0300\n",
            "\n",
            "Epoch 4/4\n",
            "----------\n",
            "train Loss: 3.5957 Acc: 0.1200\n",
            "val Loss: 3.6383 Acc: 0.1000\n",
            "\n",
            "Training complete in 10m 6s\n",
            "Best val Acc: 0.230000\n"
          ],
          "name": "stdout"
        }
      ]
    },
    {
      "metadata": {
        "id": "oxDGbJJMQBlP",
        "colab_type": "code",
        "colab": {}
      },
      "cell_type": "code",
      "source": [
        "children = list(model_ft.named_children())\n",
        "# print(list(children[0][1].named_parameters())[0])\n",
        "# print(list(children[2][1].named_parameters())[0])\n",
        "inpurs\n",
        "print(children[2][1][0].weight)\n",
        "# for name,param in children[2][1].named_parameters():\n",
        "#   print(name)\n",
        "#   print(param)"
      ],
      "execution_count": 0,
      "outputs": []
    },
    {
      "metadata": {
        "id": "BLGNpub8gYd7",
        "colab_type": "code",
        "outputId": "19f7d10a-11cc-4d36-b9c0-e23fcfcda6a5",
        "colab": {
          "base_uri": "https://localhost:8080/",
          "height": 1619
        }
      },
      "cell_type": "code",
      "source": [
        "children = list(model_ft.named_children())\n",
        "print(list(children[0][1].named_parameters())[0])\n",
        "print(list(children[2][1].named_parameters())[0])"
      ],
      "execution_count": 0,
      "outputs": [
        {
          "output_type": "stream",
          "text": [
            "('0.weight', Parameter containing:\n",
            "tensor([[[[-5.5373e-01,  1.4270e-01,  5.2896e-01],\n",
            "          [-5.8312e-01,  3.5655e-01,  7.6566e-01],\n",
            "          [-6.9022e-01, -4.8019e-02,  4.8409e-01]],\n",
            "\n",
            "         [[ 1.7548e-01,  9.8630e-03, -8.1413e-02],\n",
            "          [ 4.4089e-02, -7.0323e-02, -2.6035e-01],\n",
            "          [ 1.3239e-01, -1.7279e-01, -1.3226e-01]],\n",
            "\n",
            "         [[ 3.1303e-01, -1.6591e-01, -4.2752e-01],\n",
            "          [ 4.7519e-01, -8.2677e-02, -4.8700e-01],\n",
            "          [ 6.3203e-01,  1.9308e-02, -2.7753e-01]]],\n",
            "\n",
            "\n",
            "        [[[ 2.3254e-01,  1.2666e-01,  1.8605e-01],\n",
            "          [-4.2805e-01, -2.4349e-01,  2.4628e-01],\n",
            "          [-2.5066e-01,  1.4177e-01, -5.4864e-03]],\n",
            "\n",
            "         [[-1.4076e-01, -2.1903e-01,  1.5041e-01],\n",
            "          [-8.4127e-01, -3.5176e-01,  5.6398e-01],\n",
            "          [-2.4194e-01,  5.1928e-01,  5.3915e-01]],\n",
            "\n",
            "         [[-3.1432e-01, -3.7048e-01, -1.3094e-01],\n",
            "          [-4.7144e-01, -1.5503e-01,  3.4589e-01],\n",
            "          [ 5.4384e-02,  5.8683e-01,  4.9580e-01]]],\n",
            "\n",
            "\n",
            "        [[[ 1.7715e-01,  5.2149e-01,  9.8740e-03],\n",
            "          [-2.7185e-01, -7.1709e-01,  3.1292e-01],\n",
            "          [-7.5753e-02, -2.2079e-01,  3.3455e-01]],\n",
            "\n",
            "         [[ 3.0924e-01,  6.7071e-01,  2.0546e-02],\n",
            "          [-4.6607e-01, -1.0697e+00,  3.3501e-01],\n",
            "          [-8.0284e-02, -3.0522e-01,  5.4460e-01]],\n",
            "\n",
            "         [[ 3.1572e-01,  4.2335e-01, -3.4976e-01],\n",
            "          [ 8.6354e-02, -4.6457e-01,  1.1803e-02],\n",
            "          [ 1.0483e-01, -1.4584e-01, -1.5765e-02]]],\n",
            "\n",
            "\n",
            "        ...,\n",
            "\n",
            "\n",
            "        [[[ 7.7599e-02,  1.2692e-01,  3.2305e-02],\n",
            "          [ 2.2131e-01,  2.4681e-01, -4.6637e-02],\n",
            "          [ 4.6407e-02,  2.8246e-02,  1.7528e-02]],\n",
            "\n",
            "         [[-1.8327e-01, -6.7425e-02, -7.2120e-03],\n",
            "          [-4.8855e-02,  7.0427e-03, -1.2883e-01],\n",
            "          [-6.4601e-02, -6.4566e-02,  4.4235e-02]],\n",
            "\n",
            "         [[-2.2547e-01, -1.1931e-01, -2.3425e-02],\n",
            "          [-9.9171e-02, -1.5143e-02,  9.5385e-04],\n",
            "          [-2.6137e-02,  1.3567e-03,  1.4282e-01]]],\n",
            "\n",
            "\n",
            "        [[[ 1.6520e-02, -3.2225e-02, -3.8450e-03],\n",
            "          [-6.8206e-02, -1.9445e-01, -1.4166e-01],\n",
            "          [-6.9528e-02, -1.8340e-01, -1.7422e-01]],\n",
            "\n",
            "         [[ 4.2781e-02, -6.7529e-02, -7.0309e-03],\n",
            "          [ 1.1765e-02, -1.4958e-01, -1.2361e-01],\n",
            "          [ 1.0205e-02, -1.0393e-01, -1.1742e-01]],\n",
            "\n",
            "         [[ 1.2661e-01,  8.5046e-02,  1.3066e-01],\n",
            "          [ 1.7585e-01,  1.1288e-01,  1.1937e-01],\n",
            "          [ 1.4656e-01,  9.8892e-02,  1.0348e-01]]],\n",
            "\n",
            "\n",
            "        [[[ 3.2176e-02, -1.0766e-01, -2.6388e-01],\n",
            "          [ 2.7957e-01, -3.7416e-02, -2.5471e-01],\n",
            "          [ 3.4872e-01,  3.0041e-02, -5.5898e-02]],\n",
            "\n",
            "         [[ 2.5063e-01,  1.5543e-01, -1.7432e-01],\n",
            "          [ 3.9255e-01,  3.2306e-02, -3.5191e-01],\n",
            "          [ 1.9299e-01, -1.9898e-01, -2.9713e-01]],\n",
            "\n",
            "         [[ 4.6032e-01,  4.3399e-01,  2.8352e-01],\n",
            "          [ 1.6341e-01, -5.8165e-02, -1.9196e-01],\n",
            "          [-1.9521e-01, -4.5630e-01, -4.2732e-01]]]], device='cuda:0'))\n",
            "('0.weight', Parameter containing:\n",
            "tensor([[-0.0012, -0.0027,  0.0024,  ...,  0.0067, -0.0004, -0.0021],\n",
            "        [ 0.0053,  0.0020,  0.0045,  ..., -0.0053, -0.0045, -0.0019],\n",
            "        [-0.0005,  0.0052,  0.0018,  ...,  0.0068,  0.0005,  0.0091],\n",
            "        ...,\n",
            "        [-0.0075, -0.0096, -0.0025,  ..., -0.0079, -0.0106, -0.0036],\n",
            "        [-0.0006,  0.0014, -0.0019,  ...,  0.0036,  0.0021,  0.0038],\n",
            "        [ 0.0063,  0.0041, -0.0004,  ..., -0.0030,  0.0011,  0.0048]],\n",
            "       device='cuda:0', requires_grad=True))\n"
          ],
          "name": "stdout"
        }
      ]
    }
  ]
}